{
 "cells": [
  {
   "cell_type": "code",
   "execution_count": 2,
   "metadata": {},
   "outputs": [],
   "source": [
    "# Import findspark to read SPARK_HOME and HADOOP_HOME\n",
    "import findspark\n",
    "findspark.init()"
   ]
  },
  {
   "cell_type": "code",
   "execution_count": 3,
   "metadata": {},
   "outputs": [],
   "source": [
    "# Import required library\n",
    "from pyspark.sql import SparkSession\n",
    "\n",
    "# Create Spark Session\n",
    "spark = SparkSession \\\n",
    "    .builder \\\n",
    "    .appName(\"Python Spark SQL basic example\") \\\n",
    "    .getOrCreate()"
   ]
  },
  {
   "cell_type": "code",
   "execution_count": 4,
   "metadata": {},
   "outputs": [
    {
     "name": "stdout",
     "output_type": "stream",
     "text": [
      "<pyspark.sql.session.SparkSession object at 0x00000244E70426D8>\n"
     ]
    }
   ],
   "source": [
    "# Print Spark object ID\n",
    "print(spark)"
   ]
  },
  {
   "cell_type": "markdown",
   "metadata": {},
   "source": [
    "# Loading Data Using Spark"
   ]
  },
  {
   "cell_type": "code",
   "execution_count": 13,
   "metadata": {},
   "outputs": [],
   "source": [
    "df = spark.read.csv(\"C://Users//LENOVO//Documents//big-data-master//notebook//dataset//sf-police-calls-for-service-and-incidents//police-department-incidents.csv\", header=True, inferSchema=True)"
   ]
  },
  {
   "cell_type": "code",
   "execution_count": 14,
   "metadata": {},
   "outputs": [
    {
     "name": "stdout",
     "output_type": "stream",
     "text": [
      "+----------+--------------------+--------------------+---------+-------------------+-----+----------+--------------------+--------------------+-----------------+----------------+--------------------+-------------+\n",
      "|IncidntNum|            Category|            Descript|DayOfWeek|               Date| Time|PdDistrict|          Resolution|             Address|                X|               Y|            Location|         PdId|\n",
      "+----------+--------------------+--------------------+---------+-------------------+-----+----------+--------------------+--------------------+-----------------+----------------+--------------------+-------------+\n",
      "|  50436712|             ASSAULT|             BATTERY|Wednesday|2005-04-20 00:00:00|04:00|   MISSION|                NONE| 18TH ST / CASTRO ST|-122.435002864271|37.7608878061245|\"{'longitude': '-...|\"\"city\"\":\"\"\"\"|\n",
      "|  80049078|       LARCENY/THEFT|GRAND THEFT FROM ...|   Sunday|2008-01-13 00:00:00|18:00|      PARK|                NONE|1100 Block of CLA...|-122.446837820235|37.7622550270122|\"{'longitude': '-...|\"\"city\"\":\"\"\"\"|\n",
      "| 130366639|             ASSAULT|AGGRAVATED ASSAUL...|   Sunday|2013-05-05 00:00:00|04:10| INGLESIDE|      ARREST, BOOKED|0 Block of SGTJOH...|-122.444707063455|37.7249307267936|\"{'longitude': '-...|\"\"city\"\":\"\"\"\"|\n",
      "|  30810835|DRIVING UNDER THE...|DRIVING WHILE UND...|  Tuesday|2003-07-08 00:00:00|01:00|  SOUTHERN|      ARREST, BOOKED|  MASON ST / TURK ST|-122.408953598286|37.7832878735491|\"{'longitude': '-...|\"\"city\"\":\"\"\"\"|\n",
      "| 130839567|      OTHER OFFENSES|TRAFFIC VIOLATION...|   Friday|2013-10-04 00:00:00|20:53|TENDERLOIN|      ARREST, BOOKED|TURK ST / LEAVENW...|-122.414056291891|37.7827931071006|\"{'longitude': '-...|\"\"city\"\":\"\"\"\"|\n",
      "|  70838580|            BURGLARY|BURGLARY OF APART...|  Tuesday|2007-08-14 00:00:00|07:00|  NORTHERN|                NONE|3100 Block of FRA...|-122.426730544229|37.8034674969672|\"{'longitude': '-...|\"\"city\"\":\"\"\"\"|\n",
      "|  80233102|       DRUG/NARCOTIC|POSSESSION OF MAR...|  Tuesday|2008-03-04 00:00:00|14:23| INGLESIDE|       ARREST, CITED|MISSION ST / PERS...| -122.43597721703|37.7231288306727|\"{'longitude': '-...|\"\"city\"\":\"\"\"\"|\n",
      "|  60711805|      OTHER OFFENSES|DRIVERS LICENSE, ...|Wednesday|2006-07-05 00:00:00|15:50| INGLESIDE|       ARREST, CITED|2300 Block of SAN...|-122.447241159611|37.7201577971255|\"{'longitude': '-...|\"\"city\"\":\"\"\"\"|\n",
      "|  40062593|       LARCENY/THEFT|GRAND THEFT FROM ...|Wednesday|2003-12-10 00:00:00|09:30| INGLESIDE|                NONE|0 Block of MOFFIT...|-122.432787775164|37.7371566745272|\"{'longitude': '-...|\"\"city\"\":\"\"\"\"|\n",
      "| 110051822|        NON-CRIMINAL|STAY AWAY OR COUR...|   Monday|2011-01-17 00:00:00|15:35| INGLESIDE|                NONE|600 Block of CAMP...|-122.408761072232|37.7159000951041|\"{'longitude': '-...|\"\"city\"\":\"\"\"\"|\n",
      "|  60027038|       LARCENY/THEFT|GRAND THEFT FROM ...| Saturday|2006-01-07 00:00:00|22:00|  NORTHERN|                NONE|100 Block of HEML...|-122.420815202607|37.7872360476925|\"{'longitude': '-...|\"\"city\"\":\"\"\"\"|\n",
      "| 110929398|       LARCENY/THEFT| PETTY THEFT BICYCLE|   Sunday|2011-11-13 00:00:00|18:00|   MISSION|                NONE|3000 Block of 22N...|-122.416014728293|37.7555464259209|\"{'longitude': '-...|\"\"city\"\":\"\"\"\"|\n",
      "| 140196921|SEX OFFENSES, FOR...|ASSAULT TO RAPE W...|   Monday|2014-02-17 00:00:00|14:30| INGLESIDE|COMPLAINANT REFUS...|600 Block of LOND...| -122.43792838007|37.7193276406568|\"{'longitude': '-...|\"\"city\"\":\"\"\"\"|\n",
      "| 120287716|      SUSPICIOUS OCC|INVESTIGATIVE DET...|Wednesday|2012-04-11 00:00:00|15:10| INGLESIDE|      NOT PROSECUTED|0 Block of TIFFAN...|-122.421228786449|37.7452607746654|\"{'longitude': '-...|\"\"city\"\":\"\"\"\"|\n",
      "|  31026982|       VEHICLE THEFT|        STOLEN TRUCK| Saturday|2003-08-30 00:00:00|11:00|   TARAVAL|                NONE|2600 Block of SLO...|-122.502601064109|37.7356121084835|\"{'longitude': '-...|\"\"city\"\":\"\"\"\"|\n",
      "| 130287706|        NON-CRIMINAL|       LOST PROPERTY|   Monday|2013-04-08 00:00:00|15:15|  NORTHERN|                NONE|1600 Block of JAC...|-122.422253299565|37.7940917260344|\"{'longitude': '-...|\"\"city\"\":\"\"\"\"|\n",
      "|  96043222|       LARCENY/THEFT|GRAND THEFT FROM ...|  Tuesday|2009-06-16 00:00:00|22:00|   TARAVAL|                NONE|1600 Block of GRE...|-122.508797223682|37.7562590463517|\"{'longitude': '-...|\"\"city\"\":\"\"\"\"|\n",
      "|  60435237|       LARCENY/THEFT|GRAND THEFT FROM ...|   Sunday|2006-04-23 00:00:00|21:00| INGLESIDE|                NONE|TIFFANY AV / DUNC...|-122.420131938772|37.7465750465073|\"{'longitude': '-...|\"\"city\"\":\"\"\"\"|\n",
      "| 140902790|      OTHER OFFENSES|          CONSPIRACY| Saturday|2014-10-25 00:00:00|00:01|   MISSION|      ARREST, BOOKED|MISSION ST / 20TH ST|-122.419052694349|37.7586324051562|\"{'longitude': '-...|\"\"city\"\":\"\"\"\"|\n",
      "| 106159858|       LARCENY/THEFT|GRAND THEFT FROM ...|Wednesday|2010-12-15 00:00:00|17:45|  RICHMOND|                NONE|1000 Block of POI...|-122.513642064265|37.7784692199467|\"{'longitude': '-...|\"\"city\"\":\"\"\"\"|\n",
      "+----------+--------------------+--------------------+---------+-------------------+-----+----------+--------------------+--------------------+-----------------+----------------+--------------------+-------------+\n",
      "only showing top 20 rows\n",
      "\n"
     ]
    }
   ],
   "source": [
    "df.show()"
   ]
  },
  {
   "cell_type": "code",
   "execution_count": 15,
   "metadata": {},
   "outputs": [
    {
     "data": {
      "text/plain": [
       "2215024"
      ]
     },
     "execution_count": 15,
     "metadata": {},
     "output_type": "execute_result"
    }
   ],
   "source": [
    "df.count()"
   ]
  },
  {
   "cell_type": "code",
   "execution_count": 16,
   "metadata": {},
   "outputs": [
    {
     "data": {
      "text/plain": [
       "StructType(List(StructField(IncidntNum,IntegerType,true),StructField(Category,StringType,true),StructField(Descript,StringType,true),StructField(DayOfWeek,StringType,true),StructField(Date,TimestampType,true),StructField(Time,StringType,true),StructField(PdDistrict,StringType,true),StructField(Resolution,StringType,true),StructField(Address,StringType,true),StructField(X,DoubleType,true),StructField(Y,DoubleType,true),StructField(Location,StringType,true),StructField(PdId,StringType,true)))"
      ]
     },
     "execution_count": 16,
     "metadata": {},
     "output_type": "execute_result"
    }
   ],
   "source": [
    "df.schema"
   ]
  },
  {
   "cell_type": "code",
   "execution_count": 17,
   "metadata": {},
   "outputs": [],
   "source": [
    "# Register the DataFrame as a SQL temporary view\n",
    "df.createOrReplaceTempView(\"incidents\")"
   ]
  },
  {
   "cell_type": "code",
   "execution_count": 18,
   "metadata": {},
   "outputs": [],
   "source": [
    "result = spark.sql(\"SELECT DISTINCT Date FROM incidents\")"
   ]
  },
  {
   "cell_type": "code",
   "execution_count": 19,
   "metadata": {},
   "outputs": [
    {
     "name": "stdout",
     "output_type": "stream",
     "text": [
      "+-------------------+\n",
      "|               Date|\n",
      "+-------------------+\n",
      "|2006-04-13 00:00:00|\n",
      "|2006-09-24 00:00:00|\n",
      "|2006-07-31 00:00:00|\n",
      "|2011-09-13 00:00:00|\n",
      "|2004-12-10 00:00:00|\n",
      "|2003-03-27 00:00:00|\n",
      "|2004-09-25 00:00:00|\n",
      "|2013-06-28 00:00:00|\n",
      "|2009-09-09 00:00:00|\n",
      "|2004-06-12 00:00:00|\n",
      "|2004-05-29 00:00:00|\n",
      "|2011-10-12 00:00:00|\n",
      "|2004-01-28 00:00:00|\n",
      "|2013-11-01 00:00:00|\n",
      "|2009-07-14 00:00:00|\n",
      "|2010-06-21 00:00:00|\n",
      "|2010-08-16 00:00:00|\n",
      "|2003-10-25 00:00:00|\n",
      "|2005-11-28 00:00:00|\n",
      "|2012-09-03 00:00:00|\n",
      "+-------------------+\n",
      "only showing top 20 rows\n",
      "\n"
     ]
    }
   ],
   "source": [
    "result.show()"
   ]
  },
  {
   "cell_type": "markdown",
   "metadata": {},
   "source": [
    "# DATA MINING PROCESS"
   ]
  },
  {
   "cell_type": "code",
   "execution_count": 58,
   "metadata": {},
   "outputs": [],
   "source": [
    "#1.Menampilkan kategori kejadian yang paling banyak terjadi\n",
    "\n",
    "query1 = spark.sql(\"SELECT Category, count(Category) as Jumlah \\\n",
    "                    FROM incidents \\\n",
    "                    GROUP BY Category \\\n",
    "                    ORDER BY Jumlah DESC\")"
   ]
  },
  {
   "cell_type": "code",
   "execution_count": 59,
   "metadata": {},
   "outputs": [
    {
     "name": "stdout",
     "output_type": "stream",
     "text": [
      "+--------------------+------+\n",
      "|            Category|Jumlah|\n",
      "+--------------------+------+\n",
      "|       LARCENY/THEFT|480448|\n",
      "|      OTHER OFFENSES|309358|\n",
      "|        NON-CRIMINAL|238323|\n",
      "|             ASSAULT|194694|\n",
      "|       VEHICLE THEFT|126602|\n",
      "|       DRUG/NARCOTIC|119628|\n",
      "|           VANDALISM|116059|\n",
      "|            WARRANTS|101379|\n",
      "|            BURGLARY| 91543|\n",
      "|      SUSPICIOUS OCC| 80444|\n",
      "|      MISSING PERSON| 64961|\n",
      "|             ROBBERY| 55867|\n",
      "|               FRAUD| 41542|\n",
      "|     SECONDARY CODES| 25831|\n",
      "|FORGERY/COUNTERFE...| 23050|\n",
      "|         WEAPON LAWS| 22234|\n",
      "|            TRESPASS| 19449|\n",
      "|        PROSTITUTION| 16701|\n",
      "|     STOLEN PROPERTY| 11891|\n",
      "|SEX OFFENSES, FOR...| 11742|\n",
      "+--------------------+------+\n",
      "only showing top 20 rows\n",
      "\n"
     ]
    }
   ],
   "source": [
    "query1.show()"
   ]
  },
  {
   "cell_type": "code",
   "execution_count": 60,
   "metadata": {},
   "outputs": [],
   "source": [
    "#2.Menampilkan daftar kejadian yang belum diselesaikan\n",
    "\n",
    "query2 = spark.sql(\"SELECT Category, Descript, Resolution FROM incidents WHERE Resolution='NONE' \")"
   ]
  },
  {
   "cell_type": "code",
   "execution_count": 61,
   "metadata": {},
   "outputs": [
    {
     "name": "stdout",
     "output_type": "stream",
     "text": [
      "+--------------+--------------------+----------+\n",
      "|      Category|            Descript|Resolution|\n",
      "+--------------+--------------------+----------+\n",
      "|       ASSAULT|             BATTERY|      NONE|\n",
      "| LARCENY/THEFT|GRAND THEFT FROM ...|      NONE|\n",
      "|      BURGLARY|BURGLARY OF APART...|      NONE|\n",
      "| LARCENY/THEFT|GRAND THEFT FROM ...|      NONE|\n",
      "|  NON-CRIMINAL|STAY AWAY OR COUR...|      NONE|\n",
      "| LARCENY/THEFT|GRAND THEFT FROM ...|      NONE|\n",
      "| LARCENY/THEFT| PETTY THEFT BICYCLE|      NONE|\n",
      "| VEHICLE THEFT|        STOLEN TRUCK|      NONE|\n",
      "|  NON-CRIMINAL|       LOST PROPERTY|      NONE|\n",
      "| LARCENY/THEFT|GRAND THEFT FROM ...|      NONE|\n",
      "| LARCENY/THEFT|GRAND THEFT FROM ...|      NONE|\n",
      "| LARCENY/THEFT|GRAND THEFT FROM ...|      NONE|\n",
      "| VEHICLE THEFT|VEHICLE, RECOVERE...|      NONE|\n",
      "|      BURGLARY|BURGLARY OF APART...|      NONE|\n",
      "| LARCENY/THEFT|GRAND THEFT FROM ...|      NONE|\n",
      "|OTHER OFFENSES|VIOLATION OF REST...|      NONE|\n",
      "| VEHICLE THEFT|   STOLEN AUTOMOBILE|      NONE|\n",
      "| VEHICLE THEFT|   STOLEN AUTOMOBILE|      NONE|\n",
      "|  NON-CRIMINAL|          AIDED CASE|      NONE|\n",
      "|  NON-CRIMINAL|       LOST PROPERTY|      NONE|\n",
      "+--------------+--------------------+----------+\n",
      "only showing top 20 rows\n",
      "\n"
     ]
    }
   ],
   "source": [
    "query2.show()"
   ]
  },
  {
   "cell_type": "code",
   "execution_count": 62,
   "metadata": {},
   "outputs": [],
   "source": [
    "#3.Menampilkan distrik yang paling banyak terjadi kejadian \n",
    "\n",
    "query3 = spark.sql(\"SELECT PdDistrict, count(PdDistrict) as Jumlah \\\n",
    "                    FROM incidents \\\n",
    "                    GROUP BY PdDistrict \\\n",
    "                    ORDER BY Jumlah DESC\")"
   ]
  },
  {
   "cell_type": "code",
   "execution_count": 63,
   "metadata": {},
   "outputs": [
    {
     "name": "stdout",
     "output_type": "stream",
     "text": [
      "+----------+------+\n",
      "|PdDistrict|Jumlah|\n",
      "+----------+------+\n",
      "|  SOUTHERN|399785|\n",
      "|   MISSION|300076|\n",
      "|  NORTHERN|272713|\n",
      "|   CENTRAL|226255|\n",
      "|   BAYVIEW|221000|\n",
      "| INGLESIDE|194180|\n",
      "|TENDERLOIN|191746|\n",
      "|   TARAVAL|166971|\n",
      "|      PARK|125479|\n",
      "|  RICHMOND|116818|\n",
      "|      null|     0|\n",
      "+----------+------+\n",
      "\n"
     ]
    }
   ],
   "source": [
    "query3.show()"
   ]
  },
  {
   "cell_type": "code",
   "execution_count": 64,
   "metadata": {},
   "outputs": [],
   "source": [
    "#4.Menampilkan tanggal yang paling banyak terjadi kejadian \n",
    "\n",
    "query4 = spark.sql(\"SELECT Date, count(Date) as Jumlah \\\n",
    "                    FROM incidents \\\n",
    "                    GROUP BY Date \\\n",
    "                    ORDER BY Jumlah DESC\")"
   ]
  },
  {
   "cell_type": "code",
   "execution_count": 65,
   "metadata": {},
   "outputs": [
    {
     "name": "stdout",
     "output_type": "stream",
     "text": [
      "+-------------------+------+\n",
      "|               Date|Jumlah|\n",
      "+-------------------+------+\n",
      "|2011-01-01 00:00:00|   650|\n",
      "|2013-01-01 00:00:00|   627|\n",
      "|2013-11-01 00:00:00|   626|\n",
      "|2003-01-01 00:00:00|   622|\n",
      "|2006-01-01 00:00:00|   621|\n",
      "|2009-01-01 00:00:00|   606|\n",
      "|2015-06-28 00:00:00|   598|\n",
      "|2010-01-01 00:00:00|   569|\n",
      "|2016-01-01 00:00:00|   567|\n",
      "|2004-04-01 00:00:00|   563|\n",
      "|2017-06-25 00:00:00|   557|\n",
      "|2008-01-01 00:00:00|   555|\n",
      "|2013-10-04 00:00:00|   555|\n",
      "|2015-10-01 00:00:00|   554|\n",
      "|2015-01-01 00:00:00|   553|\n",
      "|2010-10-01 00:00:00|   550|\n",
      "|2017-09-01 00:00:00|   548|\n",
      "|2012-10-01 00:00:00|   547|\n",
      "|2005-01-01 00:00:00|   546|\n",
      "|2013-03-01 00:00:00|   545|\n",
      "+-------------------+------+\n",
      "only showing top 20 rows\n",
      "\n"
     ]
    }
   ],
   "source": [
    "query4.show()"
   ]
  },
  {
   "cell_type": "code",
   "execution_count": 67,
   "metadata": {},
   "outputs": [],
   "source": [
    "# Save the results to CSV --> partitioned CSV\n",
    "query1.write \\\n",
    "  .option(\"header\", \"true\") \\\n",
    "  .csv(\"file:///C:/Users/LENOVO/Documents/big-data-master/notebook/dataset/sf-police-calls-for-service-and-incidents/query1.csv\")"
   ]
  },
  {
   "cell_type": "code",
   "execution_count": 68,
   "metadata": {},
   "outputs": [],
   "source": [
    "# Convert to Pandas\n",
    "import pandas as pd\n",
    "queryPandas = query2.toPandas()"
   ]
  },
  {
   "cell_type": "code",
   "execution_count": 69,
   "metadata": {},
   "outputs": [],
   "source": [
    "# Save to single CSV\n",
    "queryPandas.to_csv(\"C:/Users/LENOVO/Documents/big-data-master/notebook/dataset/sf-police-calls-for-service-and-incidents/queryPandas.csv\", index=False)"
   ]
  },
  {
   "cell_type": "code",
   "execution_count": null,
   "metadata": {},
   "outputs": [],
   "source": []
  }
 ],
 "metadata": {
  "kernelspec": {
   "display_name": "Python 3",
   "language": "python",
   "name": "python3"
  },
  "language_info": {
   "codemirror_mode": {
    "name": "ipython",
    "version": 3
   },
   "file_extension": ".py",
   "mimetype": "text/x-python",
   "name": "python",
   "nbconvert_exporter": "python",
   "pygments_lexer": "ipython3",
   "version": "3.6.5"
  }
 },
 "nbformat": 4,
 "nbformat_minor": 2
}
